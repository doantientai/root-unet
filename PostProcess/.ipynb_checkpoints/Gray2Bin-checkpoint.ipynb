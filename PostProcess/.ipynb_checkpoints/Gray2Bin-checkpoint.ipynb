{
 "cells": [
  {
   "cell_type": "code",
   "execution_count": 1,
   "metadata": {},
   "outputs": [],
   "source": [
    "input_path = '/home/doantientai/Projects/DeepRoot/root-unet/Experiments/root_64_rgb/TestResults/root_64_rgb_1_predict.png'\n",
    "\n",
    "from PIL import Image\n",
    "from matplotlib.pyplot import imshow, imsave\n",
    "import numpy as np\n",
    "%matplotlib inline\n",
    "import scipy.ndimage\n",
    "import cv2\n",
    "\n",
    "from skimage import morphology\n",
    "\n",
    "# input: grayscale predicted image\n",
    "# convert to binary, invert\n",
    "# remove small objects"
   ]
  },
  {
   "cell_type": "code",
   "execution_count": 21,
   "metadata": {},
   "outputs": [
    {
     "data": {
      "text/plain": [
       "<matplotlib.image.AxesImage at 0x7ff82f8614d0>"
      ]
     },
     "execution_count": 21,
     "metadata": {},
     "output_type": "execute_result"
    },
    {
     "data": {
      "image/png": "[encoded data removed]",
      "text/plain": [
       "<matplotlib.figure.Figure at 0x7ff82fde0ad0>"
      ]
     },
     "metadata": {},
     "output_type": "display_data"
    }
   ],
   "source": [
    "# im = Image.open(input_path)\n",
    "im = cv2.imread(input_path, cv2.IMREAD_GRAYSCALE)\n",
    "# imshow(np.asarray(im),cmap=\"gray\")\n",
    "# imsave(im, \"img_gray.png\")\n",
    "\n",
    "im_bin = cv2.adaptiveThreshold(im,255,cv2.ADAPTIVE_THRESH_MEAN_C, cv2.THRESH_BINARY,31,2)\n",
    "cv2.imwrite(\"im_bin.png\", im_bin)\n",
    "\n",
    "im_inv = cv2.bitwise_not(im_bin)\n",
    "cv2.imwrite(\"im_inv.png\", im_inv)\n",
    "\n",
    "kernel_erode = np.ones((2,2),np.uint8)\n",
    "im_ero = cv2.erode(im_inv,kernel_erode,iterations = 1)\n",
    "cv2.imwrite('im_ero.png', im_ero)\n",
    "\n",
    "kernel_close = np.ones((5,5),np.uint8)\n",
    "im_close = closing = cv2.morphologyEx(im_ero, cv2.MORPH_CLOSE, kernel_close)\n",
    "cv2.imwrite('im_close.png', im_close)\n",
    "\n",
    "im_dn = morphology.remove_small_objects(im_close.astype('bool'),64)\n",
    "im_dn = np.array(im_dn, dtype=np.uint8)\n",
    "\n",
    "kernel_close = np.ones((5,5),np.uint8)\n",
    "im_dn = closing = cv2.morphologyEx(im_dn, cv2.MORPH_CLOSE, kernel_close)\n",
    "cv2.imwrite('im_close.png', im_close)\n",
    "\n",
    "\n",
    "im_dn*=255\n",
    "\n",
    "cv2.imwrite('im_dn.png', im_dn)\n",
    "\n",
    "im_dn_inv = cv2.bitwise_not(im_dn)\n",
    "cv2.imwrite(\"im_dn_inv.png\", im_dn_inv)\n",
    "\n",
    "# print np.amax(im_dn.astype('uint8'))\n",
    "imshow(im_dn,cmap='binary')"
   ]
  },
  {
   "cell_type": "code",
   "execution_count": null,
   "metadata": {},
   "outputs": [],
   "source": [
    "kernel = np.ones((3,3),np.uint8)\n",
    "im_ero = cv2.erode(im_inv,kernel,iterations = 1)\n",
    "cv2.imwrite(\"im_ero.png\", im_ero)\n",
    "\n",
    "# kernel_close = np.ones((7,7),np.uint8)\n",
    "# im_open = cv2.morphologyEx(im, cv2.MORPH_OPEN, kernel_close)\n",
    "# cv2.imwrite(\"im_open.png\", im_open)\n",
    "\n",
    "# im_denoised = cv2.fastNlMeansDenoising(im_ero,None,10,7,21)\n",
    "\n",
    "# cv2.imwrite(\"im_denoised.png\", im_denoised)\n",
    "\n",
    "\n",
    "# imshow(im_bin)\n",
    "# im_bin\n",
    "# im_bin"
   ]
  },
  {
   "cell_type": "code",
   "execution_count": null,
   "metadata": {},
   "outputs": [],
   "source": [
    "img_test = np.array([[0,0,0,1,0,0,0],[0,0,0,1,0,0,0],[0,0,0,1,0,0,0],[0,0,0,0,0,0,0],[0,0,0,0,0,1,0]])\n",
    "\n",
    "img_test = img_test.astype(bool)\n",
    "\n",
    "img_test_removed = morphology.remove_small_objects(img_test,3)\n",
    "\n",
    "img_test_removed.astype(int)"
   ]
  }
 ],
 "metadata": {
  "kernelspec": {
   "display_name": "Python 2",
   "language": "python",
   "name": "python2"
  },
  "language_info": {
   "codemirror_mode": {
    "name": "ipython",
    "version": 2
   },
   "file_extension": ".py",
   "mimetype": "text/x-python",
   "name": "python",
   "nbconvert_exporter": "python",
   "pygments_lexer": "ipython2",
   "version": "2.7.14"
  }
 },
 "nbformat": 4,
 "nbformat_minor": 2
}
