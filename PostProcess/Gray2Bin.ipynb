{
 "cells": [
  {
   "cell_type": "code",
   "execution_count": 2,
   "metadata": {},
   "outputs": [
    {
     "ename": "ImportError",
     "evalue": "dynamic module does not define module export function (PyInit_cv2)",
     "output_type": "error",
     "traceback": [
      "\u001b[0;31m---------------------------------------------------------------------------\u001b[0m",
      "\u001b[0;31mImportError\u001b[0m                               Traceback (most recent call last)",
      "\u001b[0;32m<ipython-input-2-bf15ed61204d>\u001b[0m in \u001b[0;36m<module>\u001b[0;34m()\u001b[0m\n\u001b[1;32m     15\u001b[0m \u001b[0;32mimport\u001b[0m \u001b[0msys\u001b[0m\u001b[0;34m\u001b[0m\u001b[0m\n\u001b[1;32m     16\u001b[0m \u001b[0msys\u001b[0m\u001b[0;34m.\u001b[0m\u001b[0mpath\u001b[0m\u001b[0;34m.\u001b[0m\u001b[0mappend\u001b[0m\u001b[0;34m(\u001b[0m\u001b[0;34m'/home/doantientai/anaconda3/envs/keras1.1/lib/python2.7/site-packages'\u001b[0m\u001b[0;34m)\u001b[0m\u001b[0;34m\u001b[0m\u001b[0m\n\u001b[0;32m---> 17\u001b[0;31m \u001b[0;32mimport\u001b[0m \u001b[0mcv2\u001b[0m\u001b[0;34m\u001b[0m\u001b[0m\n\u001b[0m\u001b[1;32m     18\u001b[0m \u001b[0;34m\u001b[0m\u001b[0m\n\u001b[1;32m     19\u001b[0m \u001b[0;32mfrom\u001b[0m \u001b[0mskimage\u001b[0m \u001b[0;32mimport\u001b[0m \u001b[0mmorphology\u001b[0m\u001b[0;34m\u001b[0m\u001b[0m\n",
      "\u001b[0;31mImportError\u001b[0m: dynamic module does not define module export function (PyInit_cv2)"
     ]
    }
   ],
   "source": [
    "# input_path = '/home/doantientai/Projects/DeepRoot/root-unet/Experiments/root_64_rgb/TestResults/root_64_rgb_1_predict.png'\n",
    "\n",
    "input_path = '/home/doantientai/Projects/DeepRoot/root-unet/Experiments/root_128_rgb_crop256_flrt_500e/TestResults/root_128_rgb_crop256_flrt_500e_0_predict.png'\n",
    "\n",
    "from PIL import Image\n",
    "from matplotlib.pyplot import imshow, imsave\n",
    "import numpy as np\n",
    "# %matplotlib inline\n",
    "import scipy.ndimage\n",
    "\n",
    "\n",
    "# import os\n",
    "# os.sys.path\n",
    "\n",
    "# import sys\n",
    "# sys.path.append('/home/doantientai/anaconda3/envs/keras1.1/lib/python2.7/site-packages')\n",
    "import cv2\n",
    "\n",
    "from skimage import morphology\n",
    "\n",
    "# input: grayscale predicted image\n",
    "# convert to binary, invert\n",
    "remove small objects"
   ]
  },
  {
   "cell_type": "code",
   "execution_count": null,
   "metadata": {},
   "outputs": [],
   "source": [
    "# im = Image.open(input_path)\n",
    "im = cv2.imread(input_path, cv2.IMREAD_GRAYSCALE)\n",
    "# imshow(np.asarray(im),cmap=\"gray\")\n",
    "# imsave(im, \"img_gray.png\")\n",
    "\n",
    "im_bin = cv2.adaptiveThreshold(im,255,cv2.ADAPTIVE_THRESH_MEAN_C, cv2.THRESH_BINARY,31,2)\n",
    "# cv2.imwrite(\"im_bin.png\", im_bin)\n",
    "\n",
    "im_inv = cv2.bitwise_not(im_bin)\n",
    "# cv2.imwrite(\"im_inv.png\", im_inv)\n",
    "\n",
    "kernel_erode = np.ones((2,2),np.uint8)\n",
    "im_ero = cv2.erode(im_inv,kernel_erode,iterations = 1)\n",
    "# cv2.imwrite('im_ero.png', im_ero)\n",
    "\n",
    "kernel_close = np.ones((5,5),np.uint8)\n",
    "im_close = closing = cv2.morphologyEx(im_ero, cv2.MORPH_CLOSE, kernel_close)\n",
    "# cv2.imwrite('im_close.png', im_close)\n",
    "\n",
    "im_dn = morphology.remove_small_objects(im_close.astype('bool'),64)\n",
    "im_dn = np.array(im_dn, dtype=np.uint8)\n",
    "\n",
    "kernel_close = np.ones((5,5),np.uint8)\n",
    "im_dn = closing = cv2.morphologyEx(im_dn, cv2.MORPH_CLOSE, kernel_close)\n",
    "# cv2.imwrite('im_close.png', im_close)\n",
    "\n",
    "\n",
    "im_dn*=255\n",
    "\n",
    "# cv2.imwrite('im_dn.png', im_dn)\n",
    "\n",
    "im_dn_inv = cv2.bitwise_not(im_dn)\n",
    "cv2.imwrite(\"im_dn_inv.png\", im_dn_inv)\n",
    "\n",
    "# print np.amax(im_dn.astype('uint8'))\n",
    "# imshow(im_dn,cmap='binary')"
   ]
  },
  {
   "cell_type": "code",
   "execution_count": null,
   "metadata": {
    "collapsed": true
   },
   "outputs": [],
   "source": [
    "# kernel = np.ones((3,3),np.uint8)\n",
    "# im_ero = cv2.erode(im_inv,kernel,iterations = 1)\n",
    "# cv2.imwrite(\"im_ero.png\", im_ero)\n",
    "\n",
    "# kernel_close = np.ones((7,7),np.uint8)\n",
    "# im_open = cv2.morphologyEx(im, cv2.MORPH_OPEN, kernel_close)\n",
    "# cv2.imwrite(\"im_open.png\", im_open)\n",
    "\n",
    "# im_denoised = cv2.fastNlMeansDenoising(im_ero,None,10,7,21)\n",
    "\n",
    "# cv2.imwrite(\"im_denoised.png\", im_denoised)\n",
    "\n",
    "\n",
    "# imshow(im_bin)\n",
    "# im_bin\n",
    "# im_bin"
   ]
  },
  {
   "cell_type": "code",
   "execution_count": null,
   "metadata": {
    "collapsed": true
   },
   "outputs": [],
   "source": [
    "# img_test = np.array([[0,0,0,1,0,0,0],[0,0,0,1,0,0,0],[0,0,0,1,0,0,0],[0,0,0,0,0,0,0],[0,0,0,0,0,1,0]])\n",
    "\n",
    "# img_test = img_test.astype(bool)\n",
    "\n",
    "# img_test_removed = morphology.remove_small_objects(img_test,3)\n",
    "\n",
    "# img_test_removed.astype(int)"
   ]
  }
 ],
 "metadata": {
  "kernelspec": {
   "display_name": "Python 2",
   "language": "python",
   "name": "python2"
  },
  "language_info": {
   "codemirror_mode": {
    "name": "ipython",
    "version": 2
   },
   "file_extension": ".py",
   "mimetype": "text/x-python",
   "name": "python",
   "nbconvert_exporter": "python",
   "pygments_lexer": "ipython2",
   "version": "2.7.14"
  }
 },
 "nbformat": 4,
 "nbformat_minor": 2
}
