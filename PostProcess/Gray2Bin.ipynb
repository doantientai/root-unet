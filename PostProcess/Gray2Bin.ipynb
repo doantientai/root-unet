{
 "cells": [
  {
   "cell_type": "code",
   "execution_count": 7,
   "metadata": {},
   "outputs": [
    {
     "data": {
      "text/plain": [
       "True"
      ]
     },
     "execution_count": 7,
     "metadata": {},
     "output_type": "execute_result"
    }
   ],
   "source": [
    "# input_path = '/home/doantientai/Projects/DeepRoot/root-unet/Experiments/root_64_rgb/TestResults/root_64_rgb_1_predict.png'\n",
    "\n",
    "experience_name = 'root_db1_bin_pat32_cr15p_flrt_500e'\n",
    "\n",
    "input_path = '/home/doantientai/Projects/DeepRoot/root-unet/Experiments/' \n",
    "+ experience_name + '/TestResults/' + experience_name + '_0_predict.png'\n",
    "\n",
    "gt_path = input_path.replace(\"predict\", \"gtruth\")\n",
    "\n",
    "from PIL import Image\n",
    "from matplotlib.pyplot import imshow, imsave\n",
    "import numpy as np\n",
    "# %matplotlib inline\n",
    "import scipy.ndimage\n",
    "\n",
    "from os import remove\n",
    "# os.sys.path\n",
    "\n",
    "# import sys\n",
    "# sys.path.append('/home/doantientai/anaconda3/envs/keras1.1/lib/python2.7/site-packages')\n",
    "import cv2\n",
    "\n",
    "from skimage import morphology\n",
    "\n",
    "remove(\"./im_dn_inv.png\")\n",
    "remove(\"./im_gt.png\")\n",
    "remove(\"./im_pred.png\")\n",
    "\n",
    "# input: grayscale predicted image\n",
    "# convert to binary, invert\n",
    "# remove small objects\n",
    "\n",
    "# im = Image.open(input_path)\n",
    "im = cv2.imread(input_path, cv2.IMREAD_GRAYSCALE)\n",
    "# imshow(np.asarray(im),cmap=\"gray\")\n",
    "# imsave(im, \"img_gray.png\")\n",
    "cv2.imwrite(\"im_pred.png\", im)\n",
    "\n",
    "im_gt = cv2.imread(gt_path, cv2.IMREAD_GRAYSCALE)\n",
    "cv2.imwrite(\"im_gt.png\", im_gt)\n",
    "\n",
    "im_bin = cv2.adaptiveThreshold(im,255,cv2.ADAPTIVE_THRESH_GAUSSIAN_C, cv2.THRESH_BINARY,31,2)\n",
    "# cv2.imwrite(\"im_bin.png\", im_bin)\n",
    "\n",
    "im_inv = cv2.bitwise_not(im_bin)\n",
    "# cv2.imwrite(\"im_inv.png\", im_inv)\n",
    "\n",
    "kernel_erode = np.ones((2,2),np.uint8)\n",
    "im_ero = cv2.erode(im_inv,kernel_erode,iterations = 1)\n",
    "# cv2.imwrite('im_ero.png', im_ero)\n",
    "\n",
    "kernel_close = np.ones((5,5),np.uint8)\n",
    "im_close = closing = cv2.morphologyEx(im_ero, cv2.MORPH_CLOSE, kernel_close)\n",
    "# cv2.imwrite('im_close.png', im_close)\n",
    "\n",
    "im_dn = morphology.remove_small_objects(im_close.astype('bool'),40)\n",
    "im_dn = np.array(im_dn, dtype=np.uint8)\n",
    "\n",
    "kernel_close = np.ones((5,5),np.uint8)\n",
    "im_dn = closing = cv2.morphologyEx(im_dn, cv2.MORPH_CLOSE, kernel_close)\n",
    "# cv2.imwrite('im_close.png', im_close)\n",
    "\n",
    "\n",
    "im_dn*=255\n",
    "\n",
    "# cv2.imwrite('im_dn.png', im_dn)\n",
    "\n",
    "im_dn_inv = cv2.bitwise_not(im_dn)\n",
    "cv2.imwrite(\"im_dn_inv.png\", im_dn_inv)\n",
    "\n",
    "# print np.amax(im_dn.astype('uint8'))\n",
    "# imshow(im_dn,cmap='binary')"
   ]
  },
  {
   "cell_type": "code",
   "execution_count": null,
   "metadata": {},
   "outputs": [],
   "source": []
  },
  {
   "cell_type": "code",
   "execution_count": null,
   "metadata": {},
   "outputs": [],
   "source": []
  }
 ],
 "metadata": {
  "kernelspec": {
   "display_name": "Python 2",
   "language": "python",
   "name": "python2"
  },
  "language_info": {
   "codemirror_mode": {
    "name": "ipython",
    "version": 2
   },
   "file_extension": ".py",
   "mimetype": "text/x-python",
   "name": "python",
   "nbconvert_exporter": "python",
   "pygments_lexer": "ipython2",
   "version": "2.7.14"
  }
 },
 "nbformat": 4,
 "nbformat_minor": 2
}
