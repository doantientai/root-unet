{
 "cells": [
  {
   "cell_type": "code",
   "execution_count": 2,
   "metadata": {},
   "outputs": [],
   "source": [
    "input_path = '/home/doantientai/Projects/DeepRoot/root-unet/Experiments/root_64_rgb/TestResults/root_64_rgb_1_predict.png'\n",
    "\n",
    "from PIL import Image\n",
    "from matplotlib.pyplot import imshow, imsave\n",
    "import numpy as np\n",
    "%matplotlib inline\n",
    "import scipy.ndimage\n",
    "import cv2\n",
    "\n",
    "\n",
    "\n",
    "# input: grayscale predicted image\n",
    "# convert to binary, invert\n",
    "# "
   ]
  },
  {
   "cell_type": "code",
   "execution_count": 60,
   "metadata": {},
   "outputs": [
    {
     "data": {
      "text/plain": [
       "True"
      ]
     },
     "execution_count": 60,
     "metadata": {},
     "output_type": "execute_result"
    }
   ],
   "source": [
    "# im = Image.open(input_path)\n",
    "im = cv2.imread(input_path, cv2.IMREAD_GRAYSCALE)\n",
    "# imshow(np.asarray(im),cmap=\"gray\")\n",
    "# imsave(im, \"img_gray.png\")\n",
    "\n",
    "im_bin = cv2.adaptiveThreshold(im,255,cv2.ADAPTIVE_THRESH_MEAN_C, cv2.THRESH_BINARY,31,2)\n",
    "cv2.imwrite(\"im_bin.png\", im_bin)\n",
    "\n",
    "im_inv = cv2.bitwise_not(im_bin)\n",
    "cv2.imwrite(\"im_inv.png\", im_inv)"
   ]
  },
  {
   "cell_type": "code",
   "execution_count": 63,
   "metadata": {},
   "outputs": [
    {
     "data": {
      "text/plain": [
       "True"
      ]
     },
     "execution_count": 63,
     "metadata": {},
     "output_type": "execute_result"
    }
   ],
   "source": [
    "kernel = np.ones((3,3),np.uint8)\n",
    "im_ero = cv2.erode(im_inv,kernel,iterations = 1)\n",
    "cv2.imwrite(\"im_ero.png\", im_ero)\n",
    "\n",
    "\n",
    "\n",
    "# kernel_close = np.ones((7,7),np.uint8)\n",
    "# im_open = cv2.morphologyEx(im, cv2.MORPH_OPEN, kernel_close)\n",
    "# cv2.imwrite(\"im_open.png\", im_open)\n",
    "\n",
    "# im_denoised = cv2.fastNlMeansDenoising(im_ero,None,10,7,21)\n",
    "\n",
    "# cv2.imwrite(\"im_denoised.png\", im_denoised)\n",
    "\n",
    "\n",
    "# imshow(im_bin)\n",
    "# im_bin\n",
    "# im_bin"
   ]
  },
  {
   "cell_type": "code",
   "execution_count": 15,
   "metadata": {},
   "outputs": [
    {
     "data": {
      "text/plain": [
       "(1661, 2325)"
      ]
     },
     "execution_count": 15,
     "metadata": {},
     "output_type": "execute_result"
    }
   ],
   "source": [
    "im.shape"
   ]
  }
 ],
 "metadata": {
  "kernelspec": {
   "display_name": "Python 2",
   "language": "python",
   "name": "python2"
  },
  "language_info": {
   "codemirror_mode": {
    "name": "ipython",
    "version": 2
   },
   "file_extension": ".py",
   "mimetype": "text/x-python",
   "name": "python",
   "nbconvert_exporter": "python",
   "pygments_lexer": "ipython2",
   "version": "2.7.14"
  }
 },
 "nbformat": 4,
 "nbformat_minor": 2
}
