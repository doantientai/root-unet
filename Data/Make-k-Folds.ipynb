{
 "cells": [
  {
   "cell_type": "code",
   "execution_count": 48,
   "metadata": {},
   "outputs": [
    {
     "name": "stdout",
     "output_type": "stream",
     "text": [
      "list_imgs created with 14 images\n",
      "using 14 of them for creating 7 folds of 2\n",
      "List shuffled\n",
      "\n",
      "\n"
     ]
    }
   ],
   "source": [
    "import os\n",
    "import numpy as np\n",
    "from PIL import Image\n",
    "from random import shuffle\n",
    "from shutil import copyfile, rmtree\n",
    "\n",
    "\n",
    "pathImgs = \"./datasets/RootsPairs_r/imgs/\"\n",
    "pathGroundTruth = \"./datasets/RootsPairs_r/groundTruth/\"\n",
    "pathFolds = \"./datasets/RootsPairs_r/folds/\"\n",
    "\n",
    "num_of_folds = 7 #I have 14 images\n",
    "ifRemakeData = 1\n",
    "    \n",
    "def removeDir(path):\n",
    "    if os.path.isdir(path):\n",
    "        rmtree(path)\n",
    "\n",
    "def createDir(directory):\n",
    "    if not os.path.exists(directory):\n",
    "        os.makedirs(directory)\n",
    "\n",
    "def copyListFile(list_file, dir_src, dir_dest):\n",
    "    for file_name in list_file:\n",
    "        copyfile(dir_src+file_name, dir_dest+file_name)\n",
    "        \n",
    "### Main\n",
    "if ifRemakeData == 1:\n",
    "    removeDir(pathFolds)\n",
    "\n",
    "createDir(pathFolds)\n",
    "\n",
    "# list all image-names\n",
    "list_imgs = [f for f in os.listdir(pathImgs)]\n",
    "len_list_imgs =  len(list_imgs)\n",
    "len_list_imgs_used = int(len_listImgs/num_of_folds)*num_of_folds\n",
    "len_test_in_a_fold = int(len_list_imgs_used/num_of_folds)\n",
    "\n",
    "print(\"list_imgs created with \" + str(len_list_imgs) + \" images\")\n",
    "print(\"using \" + str(len_list_imgs_used) + \" of them for creating \" + str(num_of_folds) + \" folds of \" + str(len_test_in_a_fold) )\n",
    "\n",
    "shuffle(list_imgs)\n",
    "# print(\"List shuffled\")\n",
    "# print(list_imgs)\n",
    "print(\"\\n\")\n",
    "\n",
    "for k_index in range(num_of_folds):\n",
    "    k = k_index + 1\n",
    "#     print(\"createDir: \" + \"fold-\" + str(k))\n",
    "    path_fold = pathFolds+\"fold-\"+str(k)\n",
    "    createDir(path_fold)\n",
    "    createDir(path_fold + \"/train/\")\n",
    "    createDir(path_fold + \"/test/\")\n",
    "    \n",
    "    list_img_test = list_imgs[k_index*len_test_in_a_fold: k*len_test_in_a_fold]\n",
    "    list_img_train = list(set(list_imgs) - set(list_img_test))\n",
    "    \n",
    "    copyListFile(list_img_test, pathImgs, path_fold + \"/test/\")\n",
    "    copyListFile(list_img_train, pathImgs, path_fold + \"/train/\")\n",
    "    \n",
    "    "
   ]
  },
  {
   "cell_type": "code",
   "execution_count": 15,
   "metadata": {},
   "outputs": [
    {
     "data": {
      "text/plain": [
       "14"
      ]
     },
     "execution_count": 15,
     "metadata": {},
     "output_type": "execute_result"
    }
   ],
   "source": []
  }
 ],
 "metadata": {
  "kernelspec": {
   "display_name": "Python 3",
   "language": "python",
   "name": "python3"
  },
  "language_info": {
   "codemirror_mode": {
    "name": "ipython",
    "version": 3
   },
   "file_extension": ".py",
   "mimetype": "text/x-python",
   "name": "python",
   "nbconvert_exporter": "python",
   "pygments_lexer": "ipython3",
   "version": "3.6.3"
  }
 },
 "nbformat": 4,
 "nbformat_minor": 2
}
