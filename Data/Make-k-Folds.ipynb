{
 "cells": [
  {
   "cell_type": "code",
   "execution_count": 4,
   "metadata": {},
   "outputs": [
    {
     "name": "stdout",
     "output_type": "stream",
     "text": [
      "list_imgs created with 36 images\n",
      "using 36 of them for creating 9 folds of 4\n",
      "\n",
      "\n"
     ]
    }
   ],
   "source": [
    "import os\n",
    "import numpy as np\n",
    "from PIL import Image\n",
    "from random import shuffle\n",
    "from shutil import copyfile, rmtree\n",
    "\n",
    "pathImgs = \"./datasets/RootsPairs-data1-2/data_1n2_r/imgs/\"\n",
    "pathGroundTruth = \"./datasets/RootsPairs-data1-2/data_1n2_r/groundTruth/\"\n",
    "pathFolds = \"./datasets/RootsPairs-data1-2/data_1n2_r/folds/\"\n",
    "\n",
    "LIMIT_SAMPLES = 36\n",
    "\n",
    "# num_of_folds = 7 #I have 14 images\n",
    "num_of_folds = 9 \n",
    "ifRemakeData = True\n",
    "    \n",
    "def removeDir(path):\n",
    "    if os.path.isdir(path):\n",
    "        rmtree(path)\n",
    "\n",
    "def createDir(directory):\n",
    "    if not os.path.exists(directory):\n",
    "        os.makedirs(directory)\n",
    "\n",
    "def copyListFile(list_file, dir_src, dir_dest):\n",
    "    for file_name in list_file:\n",
    "        copyfile(dir_src+file_name, dir_dest+file_name)\n",
    "        \n",
    "### Main\n",
    "if ifRemakeData == True:\n",
    "    removeDir(pathFolds)\n",
    "\n",
    "createDir(pathFolds)\n",
    "\n",
    "# list all image-names\n",
    "list_imgs = [f for f in os.listdir(pathImgs)][0:LIMIT_SAMPLES]\n",
    "len_list_imgs =  len(list_imgs)\n",
    "len_list_imgs_used = int(len_list_imgs/num_of_folds)*num_of_folds\n",
    "len_test_in_a_fold = int(len_list_imgs_used/num_of_folds)\n",
    "\n",
    "print(\"list_imgs created with \" + str(len_list_imgs) + \" images\")\n",
    "print(\"using \" + str(len_list_imgs_used) + \" of them for creating \" + str(num_of_folds) + \" folds of \" + str(len_test_in_a_fold) )\n",
    "\n",
    "shuffle(list_imgs)\n",
    "# print(\"List shuffled\")\n",
    "# print(list_imgs)\n",
    "\n",
    "#make list grounthTruth based on list imgs\n",
    "list_groundTruth = list_imgs\n",
    "# list_groundTruth = [None] * len_list_imgs\n",
    "# for i in range(len_list_imgs):\n",
    "#     img_name = list_imgs[i]\n",
    "#     list_groundTruth[i] = img_name[0:len(img_name)-8] + \".jpg\"\n",
    "    \n",
    "\n",
    "    \n",
    "print(\"\\n\")\n",
    "\n",
    "for k_index in range(num_of_folds):\n",
    "    k = k_index + 1\n",
    "#     print(\"createDir: \" + \"fold-\" + str(k))\n",
    "    path_fold = pathFolds+\"fold-\"+str(k)\n",
    "    createDir(path_fold)\n",
    "    createDir(path_fold + \"/train/\")\n",
    "    createDir(path_fold + \"/train/imgs/\")\n",
    "    createDir(path_fold + \"/train/groundTruth/\")\n",
    "    createDir(path_fold + \"/test/\")\n",
    "    createDir(path_fold + \"/test/imgs/\")\n",
    "    createDir(path_fold + \"/test/groundTruth/\")\n",
    "    \n",
    "    list_img_test = list_imgs[k_index*len_test_in_a_fold: k*len_test_in_a_fold]\n",
    "    list_img_train = list(set(list_imgs) - set(list_img_test))\n",
    "    \n",
    "    copyListFile(list_img_test, pathImgs, path_fold + \"/test/imgs/\")\n",
    "    copyListFile(list_img_train, pathImgs, path_fold + \"/train/imgs/\")\n",
    "    \n",
    "    list_gt_test = list_groundTruth[k_index*len_test_in_a_fold: k*len_test_in_a_fold]\n",
    "    list_gt_train = list(set(list_groundTruth) - set(list_gt_test))\n",
    "    \n",
    "    copyListFile(list_gt_test, pathGroundTruth, path_fold + \"/test/groundTruth/\")\n",
    "    copyListFile(list_gt_train, pathGroundTruth, path_fold + \"/train/groundTruth/\")\n",
    "    \n",
    "    "
   ]
  },
  {
   "cell_type": "code",
   "execution_count": 2,
   "metadata": {},
   "outputs": [
    {
     "data": {
      "text/plain": [
       "['T32_W01_H02.JPG', 'T07_W01_H02.JPG', '26_4_12_TB6.jpg', 'T05_W01_H02.JPG']"
      ]
     },
     "execution_count": 2,
     "metadata": {},
     "output_type": "execute_result"
    }
   ],
   "source": [
    "list_gt_test"
   ]
  },
  {
   "cell_type": "code",
   "execution_count": 3,
   "metadata": {},
   "outputs": [
    {
     "data": {
      "text/plain": [
       "['T11_W01_H02.JPG',\n",
       " '26_4_12_TB8.jpg',\n",
       " 'T29_W01_H02.JPG',\n",
       " 'T12_W01_H02.JPG',\n",
       " 'T25_W01_H02.JPG',\n",
       " 'T19_W01_H02.JPG',\n",
       " '26_4_12_TB3_60_90.jpg',\n",
       " '26_4_12_TB1_60_90.jpg',\n",
       " 'T28_W01_H02.JPG',\n",
       " '26_4_12_TB5.jpg',\n",
       " '26_4_12_TB3_00_30.jpg',\n",
       " '26_4_12_TB7.jpg',\n",
       " 'T17_W01_H02.JPG',\n",
       " 'T16_W01_H02.JPG',\n",
       " '26_4_12_TB9.jpg',\n",
       " '26_4_12_TB4.jpg',\n",
       " 'T06_W01_H02.JPG',\n",
       " 'T31_W01_H02.JPG',\n",
       " 'T24_W01_H02.JPG',\n",
       " 'T08_W01_H02.JPG',\n",
       " 'T27_W01_H02.JPG',\n",
       " 'T09_W01_H02.JPG',\n",
       " 'T10_W01_H02.JPG',\n",
       " 'T15_W01_H02.JPG',\n",
       " '26_4_12_TB2_60_90.jpg',\n",
       " 'T20_W01_H02.JPG',\n",
       " '26_4_12_TW1.jpg',\n",
       " 'T23_W01_H02.JPG',\n",
       " 'T26_W01_H02.JPG',\n",
       " 'T13_W01_H02.JPG',\n",
       " 'T30_W01_H02.JPG',\n",
       " 'T21_W01_H02.JPG']"
      ]
     },
     "execution_count": 3,
     "metadata": {},
     "output_type": "execute_result"
    }
   ],
   "source": [
    "list_gt_train"
   ]
  },
  {
   "cell_type": "code",
   "execution_count": null,
   "metadata": {
    "collapsed": true
   },
   "outputs": [],
   "source": []
  }
 ],
 "metadata": {
  "kernelspec": {
   "display_name": "Python 3",
   "language": "python",
   "name": "python3"
  },
  "language_info": {
   "codemirror_mode": {
    "name": "ipython",
    "version": 3
   },
   "file_extension": ".py",
   "mimetype": "text/x-python",
   "name": "python",
   "nbconvert_exporter": "python",
   "pygments_lexer": "ipython3",
   "version": "3.6.3"
  }
 },
 "nbformat": 4,
 "nbformat_minor": 2
}
