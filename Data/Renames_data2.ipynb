{
 "cells": [
  {
   "cell_type": "code",
   "execution_count": 19,
   "metadata": {},
   "outputs": [
    {
     "name": "stdout",
     "output_type": "stream",
     "text": [
      "T05_W01_H02.JPG\n",
      "T06_W01_H02.JPG\n",
      "T07_W01_H02.JPG\n",
      "T08_W01_H02.JPG\n",
      "T09_W01_H02.JPG\n",
      "T10_W01_H02.JPG\n",
      "T11_W01_H02.JPG\n",
      "T12_W01_H02.JPG\n",
      "T13_W01_H02.JPG\n",
      "T15_W01_H02.JPG\n",
      "T16_W01_H02.JPG\n",
      "T17_W01_H02.JPG\n",
      "T19_W01_H02.JPG\n",
      "T20_W01_H02.JPG\n",
      "T21_W01_H02.JPG\n",
      "T23_W01_H02.JPG\n",
      "T24_W01_H02.JPG\n",
      "T25_W01_H02.JPG\n",
      "T26_W01_H02.JPG\n",
      "T27_W01_H02.JPG\n",
      "T28_W01_H02.JPG\n",
      "T29_W01_H02.JPG\n",
      "T30_W01_H02.JPG\n",
      "T31_W01_H02.JPG\n",
      "T32_W01_H02.JPG\n",
      "25\n"
     ]
    }
   ],
   "source": [
    "import os\n",
    "PATH_DATA_2_IMGS = '/home/doantientai/Projects/DeepRoot/root-unet/Data/datasets/RootsPairs-data1-2/data2/in/Raw data/'\n",
    "PATH_DATA_2_GT = '/home/doantientai/Projects/DeepRoot/root-unet/Data/datasets/RootsPairs-data1-2/data2/out/merge/'\n",
    "\n",
    "list_imgs = [f for f in os.listdir(PATH_DATA_2_IMGS)]\n",
    "\n",
    "list_imgs.sort()\n",
    "\n",
    "for file_name in list_imgs:\n",
    "    print(file_name)\n",
    "    if (len(file_name) > 20):\n",
    "        file_name_new = file_name[0:4] + 'W01_H02.JPG'\n",
    "        print(file_name_new)\n",
    "    #     print(file_name_new)\n",
    "        os.rename(PATH_DATA_2_IMGS+file_name, PATH_DATA_2_IMGS+file_name_new)\n",
    "\n",
    "print(len(list_imgs))"
   ]
  },
  {
   "cell_type": "code",
   "execution_count": 15,
   "metadata": {},
   "outputs": [
    {
     "data": {
      "text/plain": [
       "25"
      ]
     },
     "execution_count": 15,
     "metadata": {},
     "output_type": "execute_result"
    }
   ],
   "source": [
    "len('T05_w01_29102010_thep.jpg')"
   ]
  }
 ],
 "metadata": {
  "kernelspec": {
   "display_name": "Python 3",
   "language": "python",
   "name": "python3"
  },
  "language_info": {
   "codemirror_mode": {
    "name": "ipython",
    "version": 3
   },
   "file_extension": ".py",
   "mimetype": "text/x-python",
   "name": "python",
   "nbconvert_exporter": "python",
   "pygments_lexer": "ipython3",
   "version": "3.6.3"
  }
 },
 "nbformat": 4,
 "nbformat_minor": 2
}
