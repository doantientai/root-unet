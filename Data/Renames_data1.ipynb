{
 "cells": [
  {
   "cell_type": "code",
   "execution_count": 2,
   "metadata": {},
   "outputs": [
    {
     "name": "stdout",
     "output_type": "stream",
     "text": [
      "26_4_12_TB1_30_60.jpg\n",
      "26_4_12_TB1_30_60.jpg\n",
      "26_4_12_TB1_60_90.jpg\n",
      "26_4_12_TB1_60_90.jpg\n",
      "26_4_12_TB2_30_60.jpg\n",
      "26_4_12_TB2_30_60.jpg\n",
      "26_4_12_TB2_60_90.jpg\n",
      "26_4_12_TB2_60_90.jpg\n",
      "26_4_12_TB3_00_30.jpg\n",
      "26_4_12_TB3_00_30.jpg\n",
      "26_4_12_TB3_30_60.jpg\n",
      "26_4_12_TB3_30_60.jpg\n",
      "26_4_12_TB3_60_90.jpg\n",
      "26_4_12_TB3_60_90.jpg\n",
      "26_4_12_TB4.jpg\n",
      "26_4_12_TB4.jpg\n",
      "26_4_12_TB5.jpg\n",
      "26_4_12_TB5.jpg\n",
      "26_4_12_TB6.jpg\n",
      "26_4_12_TB6.jpg\n",
      "26_4_12_TB7.jpg\n",
      "26_4_12_TB7.jpg\n",
      "26_4_12_TB8.jpg\n",
      "26_4_12_TB8.jpg\n",
      "26_4_12_TB9.jpg\n",
      "26_4_12_TB9.jpg\n",
      "26_4_12_TW1.jpg\n",
      "26_4_12_TW1.jpg\n"
     ]
    }
   ],
   "source": [
    "import os\n",
    "\n",
    "# PATH_DATA_1_IMGS = '/home/doantientai/Projects/DeepRoot/root-unet/Data/datasets/RootsPairs-data1-2/data1/crop/imgs/'\n",
    "# PATH_DATA_1_GT = '/home/doantientai/Projects/DeepRoot/root-unet/Data/datasets/RootsPairs-data1-2/data1/crop/groundTruth/'\n",
    "\n",
    "PATH_DATA_1_IMGS = '/home/doantientai/Projects/DeepRoot/root-unet/Data/datasets/RootsPairs/imgs/'\n",
    "PATH_DATA_1_GT = '/home/doantientai/Projects/DeepRoot/root-unet/Data/datasets/RootsPairs/groundTruth/'\n",
    "\n",
    "\n",
    "list_imgs = [f for f in os.listdir(PATH_DATA_1_IMGS)]\n",
    "# print(listImgs)\n",
    "list_imgs.sort()\n",
    "\n",
    "for file_name in list_imgs:\n",
    "    print(file_name)\n",
    "    file_name_new = file_name.replace('0001', '')\n",
    "    print(file_name_new)\n",
    "    os.rename(PATH_DATA_1_IMGS+file_name, PATH_DATA_1_IMGS+file_name_new)"
   ]
  },
  {
   "cell_type": "code",
   "execution_count": null,
   "metadata": {},
   "outputs": [],
   "source": []
  },
  {
   "cell_type": "code",
   "execution_count": null,
   "metadata": {},
   "outputs": [],
   "source": []
  }
 ],
 "metadata": {
  "kernelspec": {
   "display_name": "Python 2",
   "language": "python",
   "name": "python2"
  },
  "language_info": {
   "codemirror_mode": {
    "name": "ipython",
    "version": 2
   },
   "file_extension": ".py",
   "mimetype": "text/x-python",
   "name": "python",
   "nbconvert_exporter": "python",
   "pygments_lexer": "ipython2",
   "version": "2.7.14"
  }
 },
 "nbformat": 4,
 "nbformat_minor": 2
}
