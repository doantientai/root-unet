{
 "cells": [
  {
   "cell_type": "code",
   "execution_count": 75,
   "metadata": {},
   "outputs": [
    {
     "name": "stdout",
     "output_type": "stream",
     "text": [
      "Length list img: 39\n",
      "First image shape: (605, 425)\n",
      "Max: 255\n"
     ]
    }
   ],
   "source": [
    "import os\n",
    "# import os.makedirs\n",
    "import numpy as np\n",
    "from PIL import Image\n",
    "%matplotlib inline\n",
    "import matplotlib\n",
    "import matplotlib.pyplot as plt\n",
    "import cv2\n",
    "\n",
    "\n",
    "from pylab import rcParams\n",
    "rcParams['figure.figsize'] = 10, 20\n",
    "\n",
    "\n",
    "PATH_ROOT = \"./datasets/RootsPairs-data1-2/data_1n2/\"\n",
    "pathImgs = PATH_ROOT + \"imgs/\"\n",
    "pathGroundTruth = PATH_ROOT + \"groundTruth/\"\n",
    "\n",
    "listImgs = [f for f in os.listdir(pathImgs)]\n",
    "\n",
    "print \"Length list img: \" + str(len(listImgs))\n",
    "\n",
    "img = Image.open(pathGroundTruth + listImgs[0]).convert(\"L\")\n",
    "\n",
    "print \"First image shape: \" + str(np.shape(img))\n",
    "\n",
    "# max = \n",
    "print \"Max: \" +str(np.amax(np.amax(img)))"
   ]
  },
  {
   "cell_type": "code",
   "execution_count": 87,
   "metadata": {},
   "outputs": [],
   "source": [
    "thres = 128\n",
    "amax = np.amax(np.amax(img))\n",
    "if amax < 1:\n",
    "    img = img*255.0\n",
    "# im_bin = cv2.adaptiveThreshold(img,255,cv2.ADAPTIVE_THRESH_MEAN_C, cv2.THRESH_BINARY,thres,2)\n",
    "\n",
    "array_bin = np.where(np.array(img) > thres, 255, 0)\n",
    "# img_bin = Image.fromarray(array_bin)\n",
    "\n",
    "img_bin = Image.fromarray(np.uint8(array_bin))\n"
   ]
  },
  {
   "cell_type": "code",
   "execution_count": 86,
   "metadata": {},
   "outputs": [
    {
     "name": "stdout",
     "output_type": "stream",
     "text": [
      "[[     0    412]\n",
      " [     1     29]\n",
      " [     2     25]\n",
      " [     3     15]\n",
      " [     4     22]\n",
      " [     5     33]\n",
      " [     6     36]\n",
      " [     7     20]\n",
      " [     8     14]\n",
      " [     9     17]\n",
      " [    10     14]\n",
      " [    11      9]\n",
      " [    12     15]\n",
      " [    13     10]\n",
      " [    14      9]\n",
      " [    15     14]\n",
      " [    16      8]\n",
      " [    17      6]\n",
      " [    18      4]\n",
      " [    19      1]\n",
      " [    20      4]\n",
      " [    21      1]\n",
      " [    22      4]\n",
      " [    23      2]\n",
      " [    24      1]\n",
      " [    25      1]\n",
      " [    26      1]\n",
      " [    27      2]\n",
      " [    29      2]\n",
      " [    32      1]\n",
      " [   216      1]\n",
      " [   218      1]\n",
      " [   219      1]\n",
      " [   220      1]\n",
      " [   222      1]\n",
      " [   224      2]\n",
      " [   225      4]\n",
      " [   226      1]\n",
      " [   227      4]\n",
      " [   228      3]\n",
      " [   229      6]\n",
      " [   230      4]\n",
      " [   231      5]\n",
      " [   232     14]\n",
      " [   233     13]\n",
      " [   234     12]\n",
      " [   235     21]\n",
      " [   236     23]\n",
      " [   237     30]\n",
      " [   238     40]\n",
      " [   239     31]\n",
      " [   240     44]\n",
      " [   241     62]\n",
      " [   242     50]\n",
      " [   243     90]\n",
      " [   244     89]\n",
      " [   245     81]\n",
      " [   246    110]\n",
      " [   247    129]\n",
      " [   248    130]\n",
      " [   249    149]\n",
      " [   250    154]\n",
      " [   251    166]\n",
      " [   252    166]\n",
      " [   253    277]\n",
      " [   254    199]\n",
      " [   255 254279]]\n"
     ]
    }
   ],
   "source": [
    "# fig=plt.figure(figsize=(2, 1))\n",
    "# fig.add_subplot(2, 1, 1)\n",
    "# plt.imshow(img)\n",
    "# fig.add_subplot(2, 1, 2)\n",
    "# plt.imshow(img_bing)\n",
    "\n",
    "# plt.imshow(img)\n",
    "# np.shape(img_bin)\n",
    "# unique, counts = np.unique(np.asarray(img), return_counts=True)\n",
    "# print np.asarray((unique, counts)).T\n",
    "\n",
    "# type(img_bin)\n",
    "# img_his = img.histogram()\n",
    "# print np.shape(img_his)\n",
    "# plt.plot(img_his)"
   ]
  },
  {
   "cell_type": "code",
   "execution_count": null,
   "metadata": {},
   "outputs": [],
   "source": []
  }
 ],
 "metadata": {
  "kernelspec": {
   "display_name": "Python 2",
   "language": "python",
   "name": "python2"
  },
  "language_info": {
   "codemirror_mode": {
    "name": "ipython",
    "version": 2
   },
   "file_extension": ".py",
   "mimetype": "text/x-python",
   "name": "python",
   "nbconvert_exporter": "python",
   "pygments_lexer": "ipython2",
   "version": "2.7.14"
  }
 },
 "nbformat": 4,
 "nbformat_minor": 2
}
