{
 "cells": [
  {
   "cell_type": "code",
   "execution_count": 1,
   "metadata": {
    "collapsed": true
   },
   "outputs": [],
   "source": [
    "import os\n",
    "# import os.makedirs\n",
    "import numpy as np\n",
    "from PIL import Image\n",
    "\n",
    "pathImgs = \"./RootsPairs/imgs/\"\n",
    "pathGroundTruth = \"./RootsPairs/groundTruth/\"\n",
    "\n",
    "pathImgs_r = \"./RootsPairs_r/imgs/\"\n",
    "pathGroundTruth_r = \"./RootsPairs_r/groundTruth/\"\n",
    "\n",
    "def createDir(directory):\n",
    "    if not os.path.exists(directory):\n",
    "        os.makedirs(directory)\n",
    "        \n",
    "createDir(pathImgs_r)\n",
    "createDir(pathGroundTruth_r)\n",
    "\n",
    "listImgs = [f for f in os.listdir(pathImgs)]\n",
    "# print(listImgs)"
   ]
  },
  {
   "cell_type": "code",
   "execution_count": 2,
   "metadata": {},
   "outputs": [
    {
     "name": "stdout",
     "output_type": "stream",
     "text": [
      "Saving./RootsPairs_r/imgs/26_4_12_TB40001.jpg\n"
     ]
    },
    {
     "ename": "FileNotFoundError",
     "evalue": "[Errno 2] No such file or directory: './RootsPairs/groundTruth/26_4_12_TB4.png'",
     "output_type": "error",
     "traceback": [
      "\u001b[0;31m---------------------------------------------------------------------------\u001b[0m",
      "\u001b[0;31mFileNotFoundError\u001b[0m                         Traceback (most recent call last)",
      "\u001b[0;32m<ipython-input-2-eba157a09af0>\u001b[0m in \u001b[0;36m<module>\u001b[0;34m()\u001b[0m\n\u001b[1;32m     30\u001b[0m         \u001b[0mLoadResizeSave\u001b[0m\u001b[0;34m(\u001b[0m\u001b[0mground_truth_name\u001b[0m\u001b[0;34m,\u001b[0m\u001b[0mpathGroundTruth\u001b[0m\u001b[0;34m,\u001b[0m\u001b[0mpathGroundTruth_r\u001b[0m\u001b[0;34m)\u001b[0m\u001b[0;34m\u001b[0m\u001b[0m\n\u001b[1;32m     31\u001b[0m \u001b[0;34m\u001b[0m\u001b[0m\n\u001b[0;32m---> 32\u001b[0;31m \u001b[0mnormalizeSizes\u001b[0m\u001b[0;34m(\u001b[0m\u001b[0mlistImgs\u001b[0m\u001b[0;34m)\u001b[0m\u001b[0;34m\u001b[0m\u001b[0m\n\u001b[0m",
      "\u001b[0;32m<ipython-input-2-eba157a09af0>\u001b[0m in \u001b[0;36mnormalizeSizes\u001b[0;34m(listImgs)\u001b[0m\n\u001b[1;32m     28\u001b[0m \u001b[0;34m\u001b[0m\u001b[0m\n\u001b[1;32m     29\u001b[0m         \u001b[0mground_truth_name\u001b[0m \u001b[0;34m=\u001b[0m \u001b[0mimg_name\u001b[0m\u001b[0;34m[\u001b[0m\u001b[0;36m0\u001b[0m\u001b[0;34m:\u001b[0m\u001b[0mlen\u001b[0m\u001b[0;34m(\u001b[0m\u001b[0mimg_name\u001b[0m\u001b[0;34m)\u001b[0m\u001b[0;34m-\u001b[0m\u001b[0;36m8\u001b[0m\u001b[0;34m]\u001b[0m \u001b[0;34m+\u001b[0m \u001b[0;34m\".png\"\u001b[0m\u001b[0;34m\u001b[0m\u001b[0m\n\u001b[0;32m---> 30\u001b[0;31m         \u001b[0mLoadResizeSave\u001b[0m\u001b[0;34m(\u001b[0m\u001b[0mground_truth_name\u001b[0m\u001b[0;34m,\u001b[0m\u001b[0mpathGroundTruth\u001b[0m\u001b[0;34m,\u001b[0m\u001b[0mpathGroundTruth_r\u001b[0m\u001b[0;34m)\u001b[0m\u001b[0;34m\u001b[0m\u001b[0m\n\u001b[0m\u001b[1;32m     31\u001b[0m \u001b[0;34m\u001b[0m\u001b[0m\n\u001b[1;32m     32\u001b[0m \u001b[0mnormalizeSizes\u001b[0m\u001b[0;34m(\u001b[0m\u001b[0mlistImgs\u001b[0m\u001b[0;34m)\u001b[0m\u001b[0;34m\u001b[0m\u001b[0m\n",
      "\u001b[0;32m<ipython-input-2-eba157a09af0>\u001b[0m in \u001b[0;36mLoadResizeSave\u001b[0;34m(img_name, path_old, path_new)\u001b[0m\n\u001b[1;32m     18\u001b[0m \u001b[0;34m\u001b[0m\u001b[0m\n\u001b[1;32m     19\u001b[0m \u001b[0;32mdef\u001b[0m \u001b[0mLoadResizeSave\u001b[0m\u001b[0;34m(\u001b[0m\u001b[0mimg_name\u001b[0m\u001b[0;34m,\u001b[0m\u001b[0mpath_old\u001b[0m\u001b[0;34m,\u001b[0m\u001b[0mpath_new\u001b[0m\u001b[0;34m)\u001b[0m\u001b[0;34m:\u001b[0m\u001b[0;34m\u001b[0m\u001b[0m\n\u001b[0;32m---> 20\u001b[0;31m     \u001b[0mimg\u001b[0m \u001b[0;34m=\u001b[0m \u001b[0mImage\u001b[0m\u001b[0;34m.\u001b[0m\u001b[0mopen\u001b[0m\u001b[0;34m(\u001b[0m\u001b[0mpath_old\u001b[0m\u001b[0;34m+\u001b[0m\u001b[0mimg_name\u001b[0m\u001b[0;34m)\u001b[0m\u001b[0;34m\u001b[0m\u001b[0m\n\u001b[0m\u001b[1;32m     21\u001b[0m     \u001b[0mimg_resize\u001b[0m \u001b[0;34m=\u001b[0m \u001b[0mimg\u001b[0m\u001b[0;34m.\u001b[0m\u001b[0mresize\u001b[0m\u001b[0;34m(\u001b[0m\u001b[0;34m(\u001b[0m\u001b[0;36m2325\u001b[0m\u001b[0;34m,\u001b[0m\u001b[0;36m1661\u001b[0m\u001b[0;34m)\u001b[0m\u001b[0;34m)\u001b[0m \u001b[0;31m# size of the smallest sample\u001b[0m\u001b[0;34m\u001b[0m\u001b[0m\n\u001b[1;32m     22\u001b[0m     \u001b[0mprint\u001b[0m\u001b[0;34m(\u001b[0m\u001b[0;34m\"Saving\"\u001b[0m \u001b[0;34m+\u001b[0m \u001b[0mpath_new\u001b[0m\u001b[0;34m+\u001b[0m\u001b[0mimg_name\u001b[0m\u001b[0;34m)\u001b[0m\u001b[0;34m\u001b[0m\u001b[0m\n",
      "\u001b[0;32m~/anaconda3/lib/python3.6/site-packages/PIL/Image.py\u001b[0m in \u001b[0;36mopen\u001b[0;34m(fp, mode)\u001b[0m\n\u001b[1;32m   2475\u001b[0m \u001b[0;34m\u001b[0m\u001b[0m\n\u001b[1;32m   2476\u001b[0m     \u001b[0;32mif\u001b[0m \u001b[0mfilename\u001b[0m\u001b[0;34m:\u001b[0m\u001b[0;34m\u001b[0m\u001b[0m\n\u001b[0;32m-> 2477\u001b[0;31m         \u001b[0mfp\u001b[0m \u001b[0;34m=\u001b[0m \u001b[0mbuiltins\u001b[0m\u001b[0;34m.\u001b[0m\u001b[0mopen\u001b[0m\u001b[0;34m(\u001b[0m\u001b[0mfilename\u001b[0m\u001b[0;34m,\u001b[0m \u001b[0;34m\"rb\"\u001b[0m\u001b[0;34m)\u001b[0m\u001b[0;34m\u001b[0m\u001b[0m\n\u001b[0m\u001b[1;32m   2478\u001b[0m         \u001b[0mexclusive_fp\u001b[0m \u001b[0;34m=\u001b[0m \u001b[0;32mTrue\u001b[0m\u001b[0;34m\u001b[0m\u001b[0m\n\u001b[1;32m   2479\u001b[0m \u001b[0;34m\u001b[0m\u001b[0m\n",
      "\u001b[0;31mFileNotFoundError\u001b[0m: [Errno 2] No such file or directory: './RootsPairs/groundTruth/26_4_12_TB4.png'"
     ]
    }
   ],
   "source": [
    "def recheckData(listImgs, pathImgs, pathGroundTruth):\n",
    "    for img_name in listImgs:\n",
    "        # check if groundTruth exist\n",
    "        ground_truth_name = img_name[0:len(img_name)-8] + \".jpg\"\n",
    "        print(\"Name matching: \" + str(os.path.exists(pathGroundTruth + ground_truth_name)))\n",
    "\n",
    "        # check if sizes match\n",
    "        img = Image.open(pathImgs + img_name)\n",
    "        img_gt = Image.open(pathGroundTruth + ground_truth_name)\n",
    "\n",
    "        if (np.shape(img) == np.shape(img_gt)):\n",
    "            print(\"Size matching: True\")\n",
    "        else:\n",
    "            print(\"Size matching: False\")\n",
    "\n",
    "            \n",
    "# recheckData(listImgs, pathImgs, pathGroundTruth)\n",
    "\n",
    "def LoadResizeSave(img_name,path_old,path_new):\n",
    "    img = Image.open(path_old+img_name)\n",
    "    img_resize = img.resize((2325,1661)) # size of the smallest sample\n",
    "    print(\"Saving\" + path_new+img_name)\n",
    "    img_resize.save(path_new+img_name)\n",
    "\n",
    "def normalizeSizes(listImgs):\n",
    "    for img_name in listImgs:\n",
    "        LoadResizeSave(img_name,pathImgs,pathImgs_r)\n",
    "        \n",
    "        ground_truth_name = img_name[0:len(img_name)-8] + \".jpg\"\n",
    "        LoadResizeSave(ground_truth_name,pathGroundTruth,pathGroundTruth_r)\n",
    "        \n",
    "normalizeSizes(listImgs)"
   ]
  },
  {
   "cell_type": "code",
   "execution_count": null,
   "metadata": {
    "collapsed": true
   },
   "outputs": [],
   "source": []
  }
 ],
 "metadata": {
  "kernelspec": {
   "display_name": "Python 3",
   "language": "python",
   "name": "python3"
  },
  "language_info": {
   "codemirror_mode": {
    "name": "ipython",
    "version": 3
   },
   "file_extension": ".py",
   "mimetype": "text/x-python",
   "name": "python",
   "nbconvert_exporter": "python",
   "pygments_lexer": "ipython3",
   "version": "3.6.3"
  }
 },
 "nbformat": 4,
 "nbformat_minor": 2
}
