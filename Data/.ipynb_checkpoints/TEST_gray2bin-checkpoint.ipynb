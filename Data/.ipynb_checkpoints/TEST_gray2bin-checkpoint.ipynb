{
 "cells": [
  {
   "cell_type": "code",
   "execution_count": 22,
   "metadata": {},
   "outputs": [
    {
     "name": "stdout",
     "output_type": "stream",
     "text": [
      "Length list img: 39\n",
      "First image shape: (605, 425, 3)\n",
      "Max: 255\n"
     ]
    }
   ],
   "source": [
    "import os\n",
    "# import os.makedirs\n",
    "import numpy as np\n",
    "from PIL import Image\n",
    "%matplotlib inline\n",
    "import matplotlib\n",
    "import matplotlib.pyplot as plt\n",
    "import cv2\n",
    "\n",
    "\n",
    "PATH_ROOT = \"./datasets/RootsPairs-data1-2/data_1n2/\"\n",
    "pathImgs = PATH_ROOT + \"imgs/\"\n",
    "pathGroundTruth = PATH_ROOT + \"groundTruth/\"\n",
    "\n",
    "listImgs = [f for f in os.listdir(pathImgs)]\n",
    "\n",
    "print \"Length list img: \" + str(len(listImgs))\n",
    "\n",
    "img = Image.open(pathGroundTruth + listImgs[0])\n",
    "\n",
    "print \"First image shape: \" + str(np.shape(img))\n",
    "\n",
    "# max = \n",
    "print \"Max: \" +str(np.amax(np.amax(img)))"
   ]
  },
  {
   "cell_type": "code",
   "execution_count": 51,
   "metadata": {},
   "outputs": [
    {
     "ename": "NameError",
     "evalue": "name 'cm' is not defined",
     "output_type": "error",
     "traceback": [
      "\u001b[0;31m---------------------------------------------------------------------------\u001b[0m",
      "\u001b[0;31mNameError\u001b[0m                                 Traceback (most recent call last)",
      "\u001b[0;32m<ipython-input-51-610dd2a44ee3>\u001b[0m in \u001b[0;36m<module>\u001b[0;34m()\u001b[0m\n\u001b[1;32m      8\u001b[0m \u001b[0;31m# img_bin = Image.fromarray(array_bin)\u001b[0m\u001b[0;34m\u001b[0m\u001b[0;34m\u001b[0m\u001b[0m\n\u001b[1;32m      9\u001b[0m \u001b[0;34m\u001b[0m\u001b[0m\n\u001b[0;32m---> 10\u001b[0;31m \u001b[0mimg_bin\u001b[0m \u001b[0;34m=\u001b[0m \u001b[0mImage\u001b[0m\u001b[0;34m.\u001b[0m\u001b[0mfromarray\u001b[0m\u001b[0;34m(\u001b[0m\u001b[0mnp\u001b[0m\u001b[0;34m.\u001b[0m\u001b[0muint8\u001b[0m\u001b[0;34m(\u001b[0m\u001b[0mcm\u001b[0m\u001b[0;34m.\u001b[0m\u001b[0mgist_earth\u001b[0m\u001b[0;34m(\u001b[0m\u001b[0marray_bin\u001b[0m\u001b[0;34m)\u001b[0m\u001b[0;34m)\u001b[0m\u001b[0;34m)\u001b[0m\u001b[0;34m\u001b[0m\u001b[0m\n\u001b[0m",
      "\u001b[0;31mNameError\u001b[0m: name 'cm' is not defined"
     ]
    }
   ],
   "source": [
    "thres = 31\n",
    "amax = np.amax(np.amax(img))\n",
    "if amax < 1:\n",
    "    img = img*255.0\n",
    "# im_bin = cv2.adaptiveThreshold(img,255,cv2.ADAPTIVE_THRESH_MEAN_C, cv2.THRESH_BINARY,thres,2)\n",
    "\n",
    "array_bin = np.where(np.array(img) > thres, 255, 0)\n",
    "# img_bin = Image.fromarray(array_bin)\n",
    "\n",
    "img_bin = Image.fromarray(np.uint8(array_bin))\n"
   ]
  },
  {
   "cell_type": "code",
   "execution_count": 49,
   "metadata": {},
   "outputs": [
    {
     "data": {
      "text/plain": [
       "PIL.JpegImagePlugin.JpegImageFile"
      ]
     },
     "execution_count": 49,
     "metadata": {},
     "output_type": "execute_result"
    }
   ],
   "source": [
    "# fig=plt.figure(figsize=(2, 1))\n",
    "# fig.add_subplot(2, 1, 1)\n",
    "# plt.imshow(img)\n",
    "# fig.add_subplot(2, 1, 2)\n",
    "# plt.imshow(img_bing)\n",
    "\n",
    "# plt.imshow(img_bin.astype(int))\n",
    "# np.shape(img_bin)\n",
    "# np.unique(int(img_bin))\n",
    "type(img)"
   ]
  }
 ],
 "metadata": {
  "kernelspec": {
   "display_name": "Python 2",
   "language": "python",
   "name": "python2"
  },
  "language_info": {
   "codemirror_mode": {
    "name": "ipython",
    "version": 2
   },
   "file_extension": ".py",
   "mimetype": "text/x-python",
   "name": "python",
   "nbconvert_exporter": "python",
   "pygments_lexer": "ipython2",
   "version": "2.7.14"
  }
 },
 "nbformat": 4,
 "nbformat_minor": 2
}
