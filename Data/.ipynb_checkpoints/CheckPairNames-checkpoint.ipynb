{
 "cells": [
  {
   "cell_type": "code",
   "execution_count": 1,
   "metadata": {},
   "outputs": [
    {
     "name": "stdout",
     "output_type": "stream",
     "text": [
      "['26_4_12_TB1_30_60.jpg', '26_4_12_TB1_60_90.jpg', '26_4_12_TB2_30_60.jpg', '26_4_12_TB2_60_90.jpg', '26_4_12_TB3_00_30.jpg', '26_4_12_TB3_30_60.jpg', '26_4_12_TB3_60_90.jpg', '26_4_12_TB4.jpg', '26_4_12_TB5.jpg', '26_4_12_TB6.jpg', '26_4_12_TB7.jpg', '26_4_12_TB8.jpg', '26_4_12_TB9.jpg', '26_4_12_TW1.jpg']\n",
      "['26_4_12_TB1_30_60.jpg', '26_4_12_TB1_60_90.jpg', '26_4_12_TB2_30_60.jpg', '26_4_12_TB2_60_90.jpg', '26_4_12_TB3_00_30.jpg', '26_4_12_TB3_30_60.jpg', '26_4_12_TB3_60_90.jpg', '26_4_12_TB4.jpg', '26_4_12_TB5.jpg', '26_4_12_TB6.jpg', '26_4_12_TB7.jpg', '26_4_12_TB8.jpg', '26_4_12_TB9.jpg', '26_4_12_TW1.jpg']\n"
     ]
    },
    {
     "data": {
      "text/plain": [
       "True"
      ]
     },
     "execution_count": 1,
     "metadata": {},
     "output_type": "execute_result"
    }
   ],
   "source": [
    "import os\n",
    "# PATH_IMGS = '/home/doantientai/Projects/DeepRoot/root-unet/Data/datasets/RootsPairs/imgs/'\n",
    "# PATH_GT = '/home/doantientai/Projects/DeepRoot/root-unet/Data/datasets/RootsPairs/groundTruth/'\n",
    "\n",
    "PATH_IMGS = './datasets/RootsPairs-data1-2/data_1n2/imgs/'\n",
    "PATH_GT = './datasets/RootsPairs-data1-2/data_1n2/groundTruth/'\n",
    "\n",
    "list_imgs = [f for f in os.listdir(PATH_IMGS)]\n",
    "list_gt = [f for f in os.listdir(PATH_GT)]\n",
    "\n",
    "list_imgs.sort()\n",
    "list_gt.sort()\n",
    "\n",
    "print(list_imgs)\n",
    "print(list_gt)\n",
    "\n",
    "list_imgs == list_gt"
   ]
  }
 ],
 "metadata": {
  "kernelspec": {
   "display_name": "Python 3",
   "language": "python",
   "name": "python3"
  },
  "language_info": {
   "codemirror_mode": {
    "name": "ipython",
    "version": 3
   },
   "file_extension": ".py",
   "mimetype": "text/x-python",
   "name": "python",
   "nbconvert_exporter": "python",
   "pygments_lexer": "ipython3",
   "version": "3.6.3"
  }
 },
 "nbformat": 4,
 "nbformat_minor": 2
}
