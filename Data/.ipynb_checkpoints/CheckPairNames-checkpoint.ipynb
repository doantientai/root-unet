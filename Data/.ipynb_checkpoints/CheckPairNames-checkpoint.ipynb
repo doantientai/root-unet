{
 "cells": [
  {
   "cell_type": "code",
   "execution_count": 2,
   "metadata": {},
   "outputs": [
    {
     "name": "stdout",
     "output_type": "stream",
     "text": [
      "['26_4_12_TB1_30_60.jpg', '26_4_12_TB1_60_90.jpg', '26_4_12_TB2_30_60.jpg', '26_4_12_TB2_60_90.jpg', '26_4_12_TB3_00_30.jpg', '26_4_12_TB3_30_60.jpg', '26_4_12_TB3_60_90.jpg', '26_4_12_TB4.jpg', '26_4_12_TB5.jpg', '26_4_12_TB6.jpg', '26_4_12_TB7.jpg', '26_4_12_TB8.jpg', '26_4_12_TB9.jpg', '26_4_12_TW1.jpg', 'T05_W01_H02.JPG', 'T06_W01_H02.JPG', 'T07_W01_H02.JPG', 'T08_W01_H02.JPG', 'T09_W01_H02.JPG', 'T10_W01_H02.JPG', 'T11_W01_H02.JPG', 'T12_W01_H02.JPG', 'T13_W01_H02.JPG', 'T15_W01_H02.JPG', 'T16_W01_H02.JPG', 'T17_W01_H02.JPG', 'T19_W01_H02.JPG', 'T20_W01_H02.JPG', 'T21_W01_H02.JPG', 'T23_W01_H02.JPG', 'T24_W01_H02.JPG', 'T25_W01_H02.JPG', 'T26_W01_H02.JPG', 'T27_W01_H02.JPG', 'T28_W01_H02.JPG', 'T29_W01_H02.JPG', 'T30_W01_H02.JPG', 'T31_W01_H02.JPG', 'T32_W01_H02.JPG']\n",
      "['26_4_12_TB1_30_60.jpg', '26_4_12_TB1_60_90.jpg', '26_4_12_TB2_30_60.jpg', '26_4_12_TB2_60_90.jpg', '26_4_12_TB3_00_30.jpg', '26_4_12_TB3_30_60.jpg', '26_4_12_TB3_60_90.jpg', '26_4_12_TB4.jpg', '26_4_12_TB5.jpg', '26_4_12_TB6.jpg', '26_4_12_TB7.jpg', '26_4_12_TB8.jpg', '26_4_12_TB9.jpg', '26_4_12_TW1.jpg', 'T05_W01_H02.JPG', 'T06_W01_H02.JPG', 'T07_W01_H02.JPG', 'T08_W01_H02.JPG', 'T09_W01_H02.JPG', 'T10_W01_H02.JPG', 'T11_W01_H02.JPG', 'T12_W01_H02.JPG', 'T13_W01_H02.JPG', 'T15_W01_H02.JPG', 'T16_W01_H02.JPG', 'T17_W01_H02.JPG', 'T19_W01_H02.JPG', 'T20_W01_H02.JPG', 'T21_W01_H02.JPG', 'T23_W01_H02.JPG', 'T24_W01_H02.JPG', 'T25_W01_H02.JPG', 'T26_W01_H02.JPG', 'T27_W01_H02.JPG', 'T28_W01_H02.JPG', 'T29_W01_H02.JPG', 'T30_W01_H02.JPG', 'T31_W01_H02.JPG', 'T32_W01_H02.JPG']\n"
     ]
    },
    {
     "data": {
      "text/plain": [
       "True"
      ]
     },
     "execution_count": 2,
     "metadata": {},
     "output_type": "execute_result"
    }
   ],
   "source": [
    "import os\n",
    "PATH_IMGS = '/home/doantientai/Projects/DeepRoot/root-unet/Data/datasets/RootsPairs-data1-2/data_1n2/imgs/'\n",
    "PATH_GT = '/home/doantientai/Projects/DeepRoot/root-unet/Data/datasets/RootsPairs-data1-2/data_1n2/groundTruth/'\n",
    "\n",
    "list_imgs = [f for f in os.listdir(PATH_IMGS)]\n",
    "list_gt = [f for f in os.listdir(PATH_GT)]\n",
    "\n",
    "list_imgs.sort()\n",
    "list_gt.sort()\n",
    "\n",
    "print(list_imgs)\n",
    "print(list_gt)\n",
    "\n",
    "list_imgs == list_gt"
   ]
  }
 ],
 "metadata": {
  "kernelspec": {
   "display_name": "Python 2",
   "language": "python",
   "name": "python2"
  },
  "language_info": {
   "codemirror_mode": {
    "name": "ipython",
    "version": 2
   },
   "file_extension": ".py",
   "mimetype": "text/x-python",
   "name": "python",
   "nbconvert_exporter": "python",
   "pygments_lexer": "ipython2",
   "version": "2.7.14"
  }
 },
 "nbformat": 4,
 "nbformat_minor": 2
}
