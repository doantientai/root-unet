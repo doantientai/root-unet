{
 "cells": [
  {
   "cell_type": "code",
   "execution_count": 18,
   "metadata": {},
   "outputs": [
    {
     "name": "stdout",
     "output_type": "stream",
     "text": [
      "25\n"
     ]
    }
   ],
   "source": [
    "import os\n",
    "PATH_DATA_2_IMGS = '/home/doantientai/Projects/DeepRoot/root-unet/Data/datasets/RootsPairs-data1-2/data2/in/Raw data/'\n",
    "PATH_DATA_2_GT = '/home/doantientai/Projects/DeepRoot/root-unet/Data/datasets/RootsPairs-data1-2/data2/out/merge/'\n",
    "\n",
    "list_imgs = [f for f in os.listdir(PATH_DATA_2_IMGS)]\n",
    "\n",
    "list_imgs.sort()\n",
    "\n",
    "for file_name in list_imgs:\n",
    "    print(file_name)\n",
    "    if (len(file_name) > 20):\n",
    "        file_name_new = file_name[0:4] + 'W01_H02.JPG'\n",
    "        print(file_name_new)\n",
    "    #     print(file_name_new)\n",
    "        os.rename(PATH_DATA_2_IMGS+file_name, PATH_DATA_2_IMGS+file_name_new)\n",
    "\n",
    "print(len(list_imgs))"
   ]
  },
  {
   "cell_type": "code",
   "execution_count": 15,
   "metadata": {},
   "outputs": [
    {
     "data": {
      "text/plain": [
       "25"
      ]
     },
     "execution_count": 15,
     "metadata": {},
     "output_type": "execute_result"
    }
   ],
   "source": [
    "len('T05_w01_29102010_thep.jpg')"
   ]
  }
 ],
 "metadata": {
  "kernelspec": {
   "display_name": "Python 2",
   "language": "python",
   "name": "python2"
  },
  "language_info": {
   "codemirror_mode": {
    "name": "ipython",
    "version": 2
   },
   "file_extension": ".py",
   "mimetype": "text/x-python",
   "name": "python",
   "nbconvert_exporter": "python",
   "pygments_lexer": "ipython2",
   "version": "2.7.14"
  }
 },
 "nbformat": 4,
 "nbformat_minor": 2
}
