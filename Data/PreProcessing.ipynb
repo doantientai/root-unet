{
 "cells": [
  {
   "cell_type": "code",
   "execution_count": 1,
   "metadata": {
    "collapsed": true
   },
   "outputs": [],
   "source": [
    "import os\n",
    "# import os.makedirs\n",
    "import numpy as np\n",
    "from PIL import Image\n",
    "\n",
    "pathImgs = \"./datasets/RootsPairs/imgs/\"\n",
    "pathGroundTruth = \"./datasets/RootsPairs/groundTruth/\"\n",
    "\n",
    "pathImgs_r = \"./datasets/RootsPairs_r/imgs/\"\n",
    "pathGroundTruth_r = \"./datasets/RootsPairs_r/groundTruth/\"\n",
    "\n",
    "def createDir(directory):\n",
    "    if not os.path.exists(directory):\n",
    "        os.makedirs(directory)\n",
    "        \n",
    "createDir(pathImgs_r)\n",
    "createDir(pathGroundTruth_r)\n",
    "\n",
    "listImgs = [f for f in os.listdir(pathImgs)]\n",
    "# print(listImgs)"
   ]
  },
  {
   "cell_type": "code",
   "execution_count": 2,
   "metadata": {},
   "outputs": [
    {
     "name": "stdout",
     "output_type": "stream",
     "text": [
      "Saving./RootsPairs_r/imgs/26_4_12_TB40001.jpg\n",
      "Saving./RootsPairs_r/groundTruth/26_4_12_TB4.jpg\n",
      "Saving./RootsPairs_r/imgs/26_4_12_TB1_30_600001.jpg\n",
      "Saving./RootsPairs_r/groundTruth/26_4_12_TB1_30_60.jpg\n",
      "Saving./RootsPairs_r/imgs/26_4_12_TB50001.jpg\n",
      "Saving./RootsPairs_r/groundTruth/26_4_12_TB5.jpg\n",
      "Saving./RootsPairs_r/imgs/26_4_12_TB3_00_300001.jpg\n",
      "Saving./RootsPairs_r/groundTruth/26_4_12_TB3_00_30.jpg\n",
      "Saving./RootsPairs_r/imgs/26_4_12_TB80001.jpg\n",
      "Saving./RootsPairs_r/groundTruth/26_4_12_TB8.jpg\n",
      "Saving./RootsPairs_r/imgs/26_4_12_TB60001.jpg\n",
      "Saving./RootsPairs_r/groundTruth/26_4_12_TB6.jpg\n",
      "Saving./RootsPairs_r/imgs/26_4_12_TW10001.jpg\n",
      "Saving./RootsPairs_r/groundTruth/26_4_12_TW1.jpg\n",
      "Saving./RootsPairs_r/imgs/26_4_12_TB90001.jpg\n",
      "Saving./RootsPairs_r/groundTruth/26_4_12_TB9.jpg\n",
      "Saving./RootsPairs_r/imgs/26_4_12_TB3_30_600001.jpg\n",
      "Saving./RootsPairs_r/groundTruth/26_4_12_TB3_30_60.jpg\n",
      "Saving./RootsPairs_r/imgs/26_4_12_TB2_30_600001.jpg\n",
      "Saving./RootsPairs_r/groundTruth/26_4_12_TB2_30_60.jpg\n",
      "Saving./RootsPairs_r/imgs/26_4_12_TB3_60_900001.jpg\n",
      "Saving./RootsPairs_r/groundTruth/26_4_12_TB3_60_90.jpg\n",
      "Saving./RootsPairs_r/imgs/26_4_12_TB1_60_900001.jpg\n",
      "Saving./RootsPairs_r/groundTruth/26_4_12_TB1_60_90.jpg\n",
      "Saving./RootsPairs_r/imgs/26_4_12_TB70001.jpg\n",
      "Saving./RootsPairs_r/groundTruth/26_4_12_TB7.jpg\n",
      "Saving./RootsPairs_r/imgs/26_4_12_TB2_60_900001.jpg\n",
      "Saving./RootsPairs_r/groundTruth/26_4_12_TB2_60_90.jpg\n"
     ]
    }
   ],
   "source": [
    "def recheckData(listImgs, pathImgs, pathGroundTruth):\n",
    "    for img_name in listImgs:\n",
    "        # check if groundTruth exist\n",
    "        ground_truth_name = img_name[0:len(img_name)-8] + \".jpg\"\n",
    "        print(\"Name matching: \" + str(os.path.exists(pathGroundTruth + ground_truth_name)))\n",
    "\n",
    "        # check if sizes match\n",
    "        img = Image.open(pathImgs + img_name)\n",
    "        img_gt = Image.open(pathGroundTruth + ground_truth_name)\n",
    "\n",
    "        if (np.shape(img) == np.shape(img_gt)):\n",
    "            print(\"Size matching: True\")\n",
    "        else:\n",
    "            print(\"Size matching: False\")\n",
    "\n",
    "            \n",
    "# recheckData(listImgs, pathImgs, pathGroundTruth)\n",
    "\n",
    "def LoadResizeSave(img_name,path_old,path_new):\n",
    "    img = Image.open(path_old+img_name)\n",
    "    img_resize = img.resize((2325,1661)) # size of the smallest sample\n",
    "    print(\"Saving\" + path_new+img_name)\n",
    "    img_resize.save(path_new+img_name)\n",
    "\n",
    "def normalizeSizes(listImgs):\n",
    "    for img_name in listImgs:\n",
    "        LoadResizeSave(img_name,pathImgs,pathImgs_r)\n",
    "        \n",
    "        ground_truth_name = img_name[0:len(img_name)-8] + \".jpg\"\n",
    "        LoadResizeSave(ground_truth_name,pathGroundTruth,pathGroundTruth_r)\n",
    "        \n",
    "normalizeSizes(listImgs)"
   ]
  },
  {
   "cell_type": "code",
   "execution_count": null,
   "metadata": {
    "collapsed": true
   },
   "outputs": [],
   "source": []
  }
 ],
 "metadata": {
  "kernelspec": {
   "display_name": "Python 3",
   "language": "python",
   "name": "python3"
  },
  "language_info": {
   "codemirror_mode": {
    "name": "ipython",
    "version": 3
   },
   "file_extension": ".py",
   "mimetype": "text/x-python",
   "name": "python",
   "nbconvert_exporter": "python",
   "pygments_lexer": "ipython3",
   "version": "3.6.3"
  }
 },
 "nbformat": 4,
 "nbformat_minor": 2
}
